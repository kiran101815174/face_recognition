{
 "cells": [
  {
   "cell_type": "code",
   "execution_count": 2,
   "metadata": {},
   "outputs": [],
   "source": [
    "import os\n",
    "import cv2\n",
    "import numpy as np\n",
    "people=[]\n",
    "for i in os.listdir(r'E:\\Resources\\Faces\\train'):\n",
    "    people.append(i)\n",
    "DIR=r'E:\\Resources\\Faces\\train'   \n",
    "face_classifier=cv2.CascadeClassifier('./Downloads/Haarcascades/haarcascade_frontalface_default.xml')\n",
    "features = []\n",
    "labels = []"
   ]
  },
  {
   "cell_type": "code",
   "execution_count": 7,
   "metadata": {},
   "outputs": [],
   "source": [
    "def train_faces():\n",
    "    for person in people:\n",
    "        path=os.path.join(DIR,person)\n",
    "        label=people.index(person)\n",
    "        for img in os.listdir(path):\n",
    "            img_path=os.path.join(path,img)\n",
    "            img_array=cv2.imread(img_path)\n",
    "            gray=cv2.cvtColor(img_array,cv2.COLOR_BGR2GRAY)\n",
    "            faces_features=face_classifier.detectMultiScale(gray,scaleFactor=1.1,minNeighbors=4)\n",
    "            \n",
    "            for (x,y,w,h) in faces_features:\n",
    "                faces_roi = gray[y:y+h, x:x+w]\n",
    "                features.append(faces_roi)\n",
    "                labels.append(label)\n",
    "train_faces()        "
   ]
  },
  {
   "cell_type": "code",
   "execution_count": 10,
   "metadata": {},
   "outputs": [],
   "source": [
    "features = np.array(features, dtype='object')\n",
    "labels = np.array(labels)\n",
    "face_recognizer=cv2.face.LBPHFaceRecognizer_create()\n",
    "face_recognizer.train(features,labels)\n",
    "face_recognizer.save('face_trained.yml')\n",
    "np.save('features.npy', features)\n",
    "np.save('labels.npy', labels)\n",
    "\n"
   ]
  },
  {
   "cell_type": "code",
   "execution_count": 5,
   "metadata": {},
   "outputs": [
    {
     "data": {
      "text/plain": [
       "-1"
      ]
     },
     "execution_count": 5,
     "metadata": {},
     "output_type": "execute_result"
    }
   ],
   "source": [
    "#checking which actor do i look like\n",
    "import cv2\n",
    "import numpy as np\n",
    "import os\n",
    "face_classifier=cv2.CascadeClassifier('./Downloads/Haarcascades/haarcascade_frontalface_default.xml')\n",
    "people=[]\n",
    "for i in os.listdir(r'E:\\Resources\\Faces\\train'):\n",
    "    people.append(i)\n",
    "face_recognizer=cv2.face.LBPHFaceRecognizer_create()\n",
    "face_recognizer.read('face_trained.yml')\n",
    "#img=cv2.imread(r'E:\\Resources\\Faces\\val\\elton_john\\1.jpg')\n",
    "#gray=cv2.cvtColor(img,cv2.COLOR_BGR2GRAY)\n",
    "video_capture=cv2.VideoCapture(0)\n",
    "while True:\n",
    "    _,img=video_capture.read()\n",
    "    gray=cv2.cvtColor(img,cv2.COLOR_BGR2GRAY)\n",
    "    faces_rect=face_classifier.detectMultiScale(gray,scaleFactor=1.1,minNeighbors=4)\n",
    "    for (x,y,w,h) in faces_rect:\n",
    "        faces_roi=gray[y:y+h,x:x+w]\n",
    "        label,confidence=face_recognizer.predict(faces_roi)\n",
    "        cv2.putText(img,str(people[label]),(20,20),cv2.FONT_HERSHEY_COMPLEX,1.0,255,thickness=2)\n",
    "        cv2.rectangle(img, (x,y), (x+w,y+h), (0,255,0), thickness=2)\n",
    "    cv2.imshow('detected_image',img)    \n",
    "    if cv2.waitKey(1) & 0xFF == ord('q'):\n",
    "            break\n",
    "video_capture.release()\n",
    "cv2.destroyAllWindows()\n",
    "cv2.waitKey(0)\n",
    "\n",
    "\n"
   ]
  },
  {
   "cell_type": "code",
   "execution_count": null,
   "metadata": {},
   "outputs": [],
   "source": [
    "video_capture=cv2.VideoCapture(0)\n",
    "while True:\n",
    "    _,frame=video_capture.read()\n",
    "    grey=cv2.cvtColor(frame,cv2.COLOR_BGR2GRAY)"
   ]
  }
 ],
 "metadata": {
  "kernelspec": {
   "display_name": "Python 3",
   "language": "python",
   "name": "python3"
  },
  "language_info": {
   "codemirror_mode": {
    "name": "ipython",
    "version": 3
   },
   "file_extension": ".py",
   "mimetype": "text/x-python",
   "name": "python",
   "nbconvert_exporter": "python",
   "pygments_lexer": "ipython3",
   "version": "3.8.3"
  }
 },
 "nbformat": 4,
 "nbformat_minor": 4
}
